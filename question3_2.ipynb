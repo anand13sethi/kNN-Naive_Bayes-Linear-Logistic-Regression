{
 "cells": [
  {
   "cell_type": "code",
   "execution_count": 1,
   "metadata": {},
   "outputs": [],
   "source": [
    "import pandas as pd\n",
    "import numpy as np\n",
    "import pprint\n",
    "import math\n",
    "from sklearn.metrics import r2_score"
   ]
  },
  {
   "cell_type": "code",
   "execution_count": 2,
   "metadata": {},
   "outputs": [],
   "source": [
    "data = pd.read_csv('adm_data.csv')\n",
    "data = data.drop('Serial No.',axis=1)\n",
    "data=(data-data.mean())/data.std()\n",
    "train = data.sample(frac=0.8, random_state=200) \n",
    "validation = data.drop(train.index)\n",
    "train_without_label = train.drop('Chance of Admit ',axis=1)"
   ]
  },
  {
   "cell_type": "code",
   "execution_count": 3,
   "metadata": {},
   "outputs": [
    {
     "name": "stdout",
     "output_type": "stream",
     "text": [
      "(360, 8)\n",
      "360 8\n"
     ]
    }
   ],
   "source": [
    "train_X = train_without_label.values  # getting the 2d matrix\n",
    "train_X = np.insert(train_X,0,1,axis=1) # inserting all 1's at the first column\n",
    "train_Y = train['Chance of Admit '].values\n",
    "print(train_X.shape)\n",
    "row = train_X.shape[0]\n",
    "column = train_X.shape[1]\n",
    "print(row,column)"
   ]
  },
  {
   "cell_type": "code",
   "execution_count": 4,
   "metadata": {},
   "outputs": [
    {
     "name": "stdout",
     "output_type": "stream",
     "text": [
      "[0, 0, 0, 0, 0, 0, 0, 0]\n"
     ]
    },
    {
     "data": {
      "text/plain": [
       "array([-0.00583737,  0.18067829,  0.18093991,  0.06821172,  0.02381349,\n",
       "        0.12607595,  0.3716649 ,  0.10779244])"
      ]
     },
     "execution_count": 4,
     "metadata": {},
     "output_type": "execute_result"
    }
   ],
   "source": [
    "theta = [0 for i in range(column)]\n",
    "print(theta)\n",
    "learning_rate = 0.01\n",
    "m = row\n",
    "number_of_iteration = 500\n",
    "\n",
    "for i in range(number_of_iteration):\n",
    "    h_theta = np.matmul(train_X,theta)\n",
    "    value = np.subtract(h_theta , train_Y)\n",
    "    value = np.matmul(value,train_X)\n",
    "    value = (learning_rate/m)*value\n",
    "    theta = np.subtract(theta ,value)\n",
    "\n",
    "theta"
   ]
  },
  {
   "cell_type": "code",
   "execution_count": 5,
   "metadata": {},
   "outputs": [
    {
     "name": "stdout",
     "output_type": "stream",
     "text": [
      "Mean Square Error :  0.8005672893418456\n"
     ]
    }
   ],
   "source": [
    "validation_without_label = validation.drop('Chance of Admit ',axis=1)\n",
    "validation_X = validation_without_label.values\n",
    "validation_X = np.insert(validation_X,0,1,axis=1)\n",
    "\n",
    "predicted_Y_bar = np.matmul(validation_X,theta)\n",
    "predicted_Y_bar = predicted_Y_bar.tolist()\n",
    "actual_Y = validation['Chance of Admit '].tolist()\n",
    "print(\"Mean Square Error : \",r2_score(actual_Y,predicted_Y_bar))"
   ]
  },
  {
   "cell_type": "code",
   "execution_count": null,
   "metadata": {},
   "outputs": [],
   "source": []
  },
  {
   "cell_type": "code",
   "execution_count": null,
   "metadata": {},
   "outputs": [],
   "source": []
  },
  {
   "cell_type": "code",
   "execution_count": null,
   "metadata": {},
   "outputs": [],
   "source": []
  },
  {
   "cell_type": "code",
   "execution_count": null,
   "metadata": {},
   "outputs": [],
   "source": []
  },
  {
   "cell_type": "code",
   "execution_count": 6,
   "metadata": {},
   "outputs": [
    {
     "name": "stdout",
     "output_type": "stream",
     "text": [
      "[0, 0, 0, 0, 0, 0, 0, 0]\n"
     ]
    },
    {
     "data": {
      "text/plain": [
       "array([0.06816667, 0.17728737, 0.14228822, 0.08412262, 0.06138825,\n",
       "       0.09143166, 0.36532333, 0.10588246])"
      ]
     },
     "execution_count": 6,
     "metadata": {},
     "output_type": "execute_result"
    }
   ],
   "source": [
    "theta1 = [0 for i in range(column)]\n",
    "print(theta1)\n",
    "learning_rate = 0.01\n",
    "m = row\n",
    "number_of_iteration = 500\n",
    "\n",
    "for i in range(number_of_iteration):\n",
    "    h_theta = np.matmul(train_X,theta1)\n",
    "    numerator = np.subtract(h_theta,train_Y)\n",
    "    denominator = np.absolute(np.array(h_theta) - np.array(train_Y))\n",
    "    value = np.divide(numerator,denominator)\n",
    "    value = np.matmul(value,train_X)\n",
    "    value = (learning_rate/(2*m))*value\n",
    "    theta1 = np.subtract(theta1,value)\n",
    "\n",
    "theta1"
   ]
  },
  {
   "cell_type": "code",
   "execution_count": 7,
   "metadata": {},
   "outputs": [
    {
     "name": "stdout",
     "output_type": "stream",
     "text": [
      "Mean Absolute Error :  0.8081854604666601\n"
     ]
    }
   ],
   "source": [
    "validation_without_label = validation.drop('Chance of Admit ',axis=1)\n",
    "validation_X = validation_without_label.values\n",
    "validation_X = np.insert(validation_X,0,1,axis=1)\n",
    "\n",
    "predicted_Y_bar = np.matmul(validation_X,theta1)\n",
    "predicted_Y_bar = predicted_Y_bar.tolist()\n",
    "actual_Y = validation['Chance of Admit '].tolist()\n",
    "print(\"Mean Absolute Error : \",r2_score(actual_Y,predicted_Y_bar))"
   ]
  },
  {
   "cell_type": "code",
   "execution_count": null,
   "metadata": {},
   "outputs": [],
   "source": []
  },
  {
   "cell_type": "code",
   "execution_count": null,
   "metadata": {},
   "outputs": [],
   "source": []
  },
  {
   "cell_type": "code",
   "execution_count": null,
   "metadata": {},
   "outputs": [],
   "source": []
  },
  {
   "cell_type": "code",
   "execution_count": null,
   "metadata": {},
   "outputs": [],
   "source": []
  },
  {
   "cell_type": "code",
   "execution_count": 16,
   "metadata": {},
   "outputs": [
    {
     "name": "stdout",
     "output_type": "stream",
     "text": [
      "[0, 0, 0, 0, 0, 0, 0, 0]\n"
     ]
    },
    {
     "data": {
      "text/plain": [
       "array([ 0.00058315, -0.06688467, -0.06545487, -0.05723564, -0.05659934,\n",
       "       -0.05453657, -0.07193282, -0.04749411])"
      ]
     },
     "execution_count": 16,
     "metadata": {},
     "output_type": "execute_result"
    }
   ],
   "source": [
    "theta2 = [0 for i in range(column)]\n",
    "print(theta2)\n",
    "learning_rate = 0.05\n",
    "m = row\n",
    "number_of_iteration = 100\n",
    "\n",
    "for i in range(number_of_iteration):\n",
    "    h_theta = np.matmul(train_X,theta2)\n",
    "    numerator = np.subtract(h_theta,train_Y)\n",
    "    denominator = np.matmul(train_Y,np.absolute(np.array(h_theta) - np.array(train_Y)))  #-0.7955265183833184\n",
    "    #denominator = train_Y * abs(np.array(h_theta) - np.array(train_Y))\n",
    "    value = np.divide(numerator,denominator)\n",
    "    value = np.matmul(value,train_X)\n",
    "    value = (learning_rate/(2*m))*value\n",
    "    theta2 = np.subtract(theta2,value)\n",
    "\n",
    "theta2"
   ]
  },
  {
   "cell_type": "code",
   "execution_count": 17,
   "metadata": {},
   "outputs": [
    {
     "name": "stdout",
     "output_type": "stream",
     "text": [
      "Mean Absolute Percentage Error :  -0.793640343403796\n"
     ]
    }
   ],
   "source": [
    "validation_without_label = validation.drop('Chance of Admit ',axis=1)\n",
    "validation_X = validation_without_label.values\n",
    "validation_X = np.insert(validation_X,0,1,axis=1)\n",
    "\n",
    "predicted_Y_bar = np.matmul(validation_X,theta2)\n",
    "predicted_Y_bar = predicted_Y_bar.tolist()\n",
    "actual_Y = validation['Chance of Admit '].tolist()\n",
    "print(\"Mean Absolute Percentage Error : \",r2_score(actual_Y,predicted_Y_bar))"
   ]
  },
  {
   "cell_type": "code",
   "execution_count": null,
   "metadata": {},
   "outputs": [],
   "source": []
  }
 ],
 "metadata": {
  "kernelspec": {
   "display_name": "Python 3",
   "language": "python",
   "name": "python3"
  },
  "language_info": {
   "codemirror_mode": {
    "name": "ipython",
    "version": 3
   },
   "file_extension": ".py",
   "mimetype": "text/x-python",
   "name": "python",
   "nbconvert_exporter": "python",
   "pygments_lexer": "ipython3",
   "version": "3.5.2"
  }
 },
 "nbformat": 4,
 "nbformat_minor": 2
}
